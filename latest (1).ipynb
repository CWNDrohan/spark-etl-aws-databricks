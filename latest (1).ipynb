{
 "cells": [
  {
   "cell_type": "code",
   "execution_count": 0,
   "metadata": {
    "application/vnd.databricks.v1+cell": {
     "cellMetadata": {
      "byteLimit": 2048000,
      "rowLimit": 10000
     },
     "inputWidgets": {},
     "nuid": "15cde052-f39c-4c4f-aa73-6b94fe78f3dc",
     "showTitle": false,
     "tableResultSettingsMap": {},
     "title": ""
    }
   },
   "outputs": [],
   "source": [
    "# pyspark functions\n",
    "from pyspark.sql.functions import *\n",
    "from pyspark.sql.types import *\n",
    "import matplotlib.pyplot as plt\n",
    "\n",
    "# URL processing\n",
    "import urllib\n",
    "\n",
    "# modify default show()\n",
    "spark.conf.set(\"spark.sql.repl.eagerEval.enabled\", True)"
   ]
  },
  {
   "cell_type": "code",
   "execution_count": 0,
   "metadata": {
    "application/vnd.databricks.v1+cell": {
     "cellMetadata": {
      "byteLimit": 2048000,
      "rowLimit": 10000
     },
     "inputWidgets": {},
     "nuid": "c059199d-1c7c-487c-86db-176db94f2106",
     "showTitle": false,
     "tableResultSettingsMap": {},
     "title": ""
    }
   },
   "outputs": [],
   "source": [
    "# Check the contents in tables folder\n",
    "display(dbutils.fs.ls(\"/FileStore/tables\"))"
   ]
  },
  {
   "cell_type": "code",
   "execution_count": 0,
   "metadata": {
    "application/vnd.databricks.v1+cell": {
     "cellMetadata": {
      "byteLimit": 2048000,
      "rowLimit": 10000
     },
     "inputWidgets": {},
     "nuid": "22ce1d1c-9a58-4dc0-bbb5-99d13037e0e2",
     "showTitle": false,
     "tableResultSettingsMap": {},
     "title": ""
    }
   },
   "outputs": [],
   "source": [
    "# Define file type\n",
    "file_type = 'csv'\n",
    "\n",
    "# Whether the file has a header\n",
    "first_row_is_header = \"true\"\n",
    "\n",
    "# Delimiter used in file\n",
    "delimiter = \",\"\n",
    "\n",
    "# Read the CSV file to spark dataframe\n",
    "aws_keys_df = spark.read.format(file_type)\\\n",
    "    .option(\"header\", first_row_is_header)\\\n",
    "    .option(\"sep\", delimiter)\\\n",
    "    .load(\"/FileStore/tables/CWND_accessKeys.csv\")"
   ]
  },
  {
   "cell_type": "code",
   "execution_count": 0,
   "metadata": {
    "application/vnd.databricks.v1+cell": {
     "cellMetadata": {
      "byteLimit": 2048000,
      "rowLimit": 10000
     },
     "inputWidgets": {},
     "nuid": "dd7f0d3a-5289-4527-bab5-0da6381568c7",
     "showTitle": false,
     "tableResultSettingsMap": {},
     "title": ""
    }
   },
   "outputs": [],
   "source": [
    "# Get the AWS access key and secret ikey from the spark dataframe\n",
    "ACCESS_KEY = aws_keys_df.select('Access key ID').collect()[0]['Access key ID']\n",
    "SECRET_KEY = aws_keys_df.select('Secret access key').collect()[0]['Secret access key']\n",
    "\n",
    "# Encode the secret key\n",
    "ENCODED_SECRET_KEY = urllib.parse.quote(string=SECRET_KEY, safe=\"\")"
   ]
  },
  {
   "cell_type": "code",
   "execution_count": 0,
   "metadata": {
    "application/vnd.databricks.v1+cell": {
     "cellMetadata": {
      "byteLimit": 2048000,
      "rowLimit": 10000
     },
     "inputWidgets": {},
     "nuid": "bb71e7f0-1856-48ee-969d-ce97ae388356",
     "showTitle": false,
     "tableResultSettingsMap": {},
     "title": ""
    }
   },
   "outputs": [],
   "source": [
    "# AWS S3 bucket name\n",
    "AWS_S3_BUCKET = \"data603final\"\n",
    "\n",
    "# Mount name for the bucket\n",
    "MOUNT_NAME = \"/mnt/data603final\"\n",
    "\n",
    "# Source url\n",
    "SOURCE_URL = \"s3n://{0}:{1}@{2}\".format(ACCESS_KEY, ENCODED_SECRET_KEY, AWS_S3_BUCKET)\n",
    "\n",
    "#MOUNT the drive\n",
    "dbutils.fs.mount(SOURCE_URL, MOUNT_NAME)"
   ]
  },
  {
   "cell_type": "code",
   "execution_count": 0,
   "metadata": {
    "application/vnd.databricks.v1+cell": {
     "cellMetadata": {
      "byteLimit": 2048000,
      "rowLimit": 10000
     },
     "inputWidgets": {},
     "nuid": "87679a18-c2fd-4ad7-915e-1a0ee62dd45d",
     "showTitle": false,
     "tableResultSettingsMap": {},
     "title": ""
    }
   },
   "outputs": [],
   "source": [
    "# Check if hte AWS S3 bucket was mounted successfully\n",
    "display(dbutils.fs.ls(\"/mnt/data603final/\"))"
   ]
  },
  {
   "cell_type": "code",
   "execution_count": 0,
   "metadata": {
    "application/vnd.databricks.v1+cell": {
     "cellMetadata": {
      "byteLimit": 2048000,
      "rowLimit": 10000
     },
     "inputWidgets": {},
     "nuid": "1ee15aca-dae1-42eb-8803-21977abc454e",
     "showTitle": false,
     "tableResultSettingsMap": {},
     "title": ""
    }
   },
   "outputs": [],
   "source": [
    "# File location and type\n",
    "file_location = \"/mnt/data603final/378_49A0.csv\"\n",
    "file_type = \"csv\"\n",
    "\n",
    "# CSV options\n",
    "infer_schema = \"true\"\n",
    "first_row_is_header = \"true\"\n",
    "delimiter = \",\"\n",
    "\n",
    "# The applied options are for CSV files\n",
    "df_378 = spark.read.format(file_type) \\\n",
    "    .option(\"inferSchema\", infer_schema) \\\n",
    "    .option(\"header\", first_row_is_header) \\\n",
    "    .option(\"sep\", delimiter) \\\n",
    "    .load(file_location)\n",
    "          \n",
    "# Take a look at the data\n",
    "display(df_378)"
   ]
  },
  {
   "cell_type": "code",
   "execution_count": 0,
   "metadata": {
    "application/vnd.databricks.v1+cell": {
     "cellMetadata": {
      "byteLimit": 2048000,
      "rowLimit": 10000
     },
     "inputWidgets": {},
     "nuid": "eac11fe9-9d96-4d7a-9fb8-8bc09f18a2a8",
     "showTitle": false,
     "tableResultSettingsMap": {},
     "title": ""
    }
   },
   "outputs": [],
   "source": [
    "#for sake of simplicity keep only certain columns\n",
    "\n",
    "columnsToKeeps = [\n",
    "    \"negotiated_type\",\n",
    "    \"negotiated_rate\",\n",
    "    \"expiration_date\",\n",
    "    \"billing_class\",\n",
    "    \"negotiation_arrangement\",\n",
    "    \"name\",\n",
    "    \"billing_code_type\",\n",
    "    \"billing_code_type_version\",\n",
    "    \"billing_code\",\n",
    "    \"description\"\n",
    "]\n",
    "\n",
    "base378 = df_378.select(columnsToKeeps)\n",
    "base378.cache().count()\n",
    "display(base378)"
   ]
  },
  {
   "cell_type": "code",
   "execution_count": 0,
   "metadata": {
    "application/vnd.databricks.v1+cell": {
     "cellMetadata": {
      "byteLimit": 2048000,
      "rowLimit": 10000
     },
     "inputWidgets": {},
     "nuid": "e94b46ba-e9f5-4398-9f92-55657cc527ca",
     "showTitle": false,
     "tableResultSettingsMap": {},
     "title": ""
    }
   },
   "outputs": [],
   "source": [
    "# count the number of unique billing codes and descriptions\n",
    "base378.select(count(\"*\").alias(\"Total Rows\"),countDistinct(\"billing_code\").alias(\"number of billing codes\"),countDistinct(\"description\").alias(\"number of descriptions\"),countDistinct(\"name\").alias(\"number of names\")).show()"
   ]
  },
  {
   "cell_type": "code",
   "execution_count": 0,
   "metadata": {
    "application/vnd.databricks.v1+cell": {
     "cellMetadata": {
      "byteLimit": 2048000,
      "rowLimit": 10000
     },
     "inputWidgets": {},
     "nuid": "a599c574-ca6b-4c78-90a3-a138d7d450c2",
     "showTitle": false,
     "tableResultSettingsMap": {},
     "title": ""
    }
   },
   "outputs": [],
   "source": [
    "# count top billing codes\n",
    "(base378\n",
    " .select(\"billing_code\",\"description\")\n",
    " .groupBy(\"billing_code\",\"description\")\n",
    " .count()\n",
    " .withColumn(\"count_f\", format_number(\"count\", 0))\n",
    " .orderBy(\"count\", ascending=False)\n",
    " .select(\"billing_code\",\"description\",\"count_f\")\n",
    " .show(n=50, truncate=True))"
   ]
  },
  {
   "cell_type": "code",
   "execution_count": 0,
   "metadata": {
    "application/vnd.databricks.v1+cell": {
     "cellMetadata": {
      "byteLimit": 2048000,
      "rowLimit": 10000
     },
     "inputWidgets": {},
     "nuid": "4ebd0bd6-5511-450b-ba76-74bb1d8415b2",
     "showTitle": false,
     "tableResultSettingsMap": {},
     "title": ""
    }
   },
   "outputs": [],
   "source": [
    "# count top descriptions\n",
    "(base378\n",
    " .select(\"description\")\n",
    " .groupBy(\"description\")\n",
    " .count()\n",
    " .withColumn(\"count_f\", format_number(\"count\", 0))\n",
    " .orderBy(\"count\", ascending=False)\n",
    " .select(\"description\",\"count_f\")\n",
    " .show(n=50, truncate=True))"
   ]
  },
  {
   "cell_type": "code",
   "execution_count": 0,
   "metadata": {
    "application/vnd.databricks.v1+cell": {
     "cellMetadata": {
      "byteLimit": 2048000,
      "rowLimit": 10000
     },
     "inputWidgets": {},
     "nuid": "1eeb19c0-d402-4a07-b846-8ba951b10bf0",
     "showTitle": false,
     "tableResultSettingsMap": {},
     "title": ""
    }
   },
   "outputs": [],
   "source": [
    "# count DRG\n",
    "(base378\n",
    " .select(\"billing_code\").where((col(\"description\") == \"DRG - Description\"))\n",
    " .groupBy(\"billing_code\")\n",
    " .count()\n",
    " .orderBy(\"count\", ascending=False)\n",
    " .show(n=50, truncate=False))"
   ]
  },
  {
   "cell_type": "code",
   "execution_count": 0,
   "metadata": {
    "application/vnd.databricks.v1+cell": {
     "cellMetadata": {
      "byteLimit": 2048000,
      "rowLimit": 10000
     },
     "inputWidgets": {},
     "nuid": "574c4e4c-7ec3-45bc-bbb8-b456ef6a04bc",
     "showTitle": false,
     "tableResultSettingsMap": {},
     "title": ""
    }
   },
   "outputs": [],
   "source": [
    "#create temp view\n",
    "\n",
    "base378.createOrReplaceTempView(\"base378_view\")"
   ]
  },
  {
   "cell_type": "code",
   "execution_count": 0,
   "metadata": {
    "application/vnd.databricks.v1+cell": {
     "cellMetadata": {
      "byteLimit": 2048000,
      "rowLimit": 10000
     },
     "inputWidgets": {},
     "nuid": "99db7ea6-0391-4b53-a56b-595c7691be12",
     "showTitle": false,
     "tableResultSettingsMap": {},
     "title": ""
    }
   },
   "outputs": [],
   "source": [
    "spark.sql(\"SELECT description, count(*) as count_desc, FORMAT_NUMBER(AVG(negotiated_rate), 2) AS avg_rate, FORMAT_NUMBER(stddev(negotiated_rate), 4) AS std_dev_rate  \\\n",
    "          FROM base378_view \\\n",
    "          GROUP BY description \\\n",
    "          ORDER by count_desc DESC\").show(n=100, truncate=True)"
   ]
  },
  {
   "cell_type": "code",
   "execution_count": 0,
   "metadata": {
    "application/vnd.databricks.v1+cell": {
     "cellMetadata": {
      "byteLimit": 2048000,
      "rowLimit": 10000
     },
     "inputWidgets": {},
     "nuid": "5ce188fa-3c31-4df3-a637-1b0bf044523f",
     "showTitle": false,
     "tableResultSettingsMap": {},
     "title": ""
    }
   },
   "outputs": [],
   "source": [
    "# least variation, with var not equal to NULL or zero\n",
    "\n",
    "spark.sql(\"SELECT description, \\\n",
    "                count(*) as count_desc, \\\n",
    "                FORMAT_NUMBER(AVG(negotiated_rate), 2) AS avg_rate, \\\n",
    "                FORMAT_NUMBER(stddev(negotiated_rate), 4) AS std_dev_rate  \\\n",
    "          FROM base378_view \\\n",
    "          GROUP BY description \\\n",
    "          HAVING std_dev_rate IS NOT NULL and std_dev_rate !=0 \\\n",
    "          ORDER by std_dev_rate\").show(n=100, truncate=True)"
   ]
  },
  {
   "cell_type": "code",
   "execution_count": 0,
   "metadata": {
    "application/vnd.databricks.v1+cell": {
     "cellMetadata": {
      "byteLimit": 2048000,
      "rowLimit": 10000
     },
     "inputWidgets": {},
     "nuid": "4b22c3c1-57ea-4961-84b9-c566ca1d5762",
     "showTitle": false,
     "tableResultSettingsMap": {},
     "title": ""
    }
   },
   "outputs": [],
   "source": [
    "# most variation\n",
    "\n",
    "spark.sql(\"SELECT description, \\\n",
    "                count(*) as count_desc, \\\n",
    "                FORMAT_NUMBER(AVG(negotiated_rate), 2) AS avg_rate, \\\n",
    "                stddev(negotiated_rate) AS std_dev_rate  \\\n",
    "          FROM base378_view \\\n",
    "          GROUP BY description \\\n",
    "          ORDER by std_dev_rate DESC\").show(n=100, truncate=True)"
   ]
  },
  {
   "cell_type": "code",
   "execution_count": 0,
   "metadata": {
    "application/vnd.databricks.v1+cell": {
     "cellMetadata": {
      "byteLimit": 2048000,
      "rowLimit": 10000
     },
     "inputWidgets": {},
     "nuid": "f1f3095b-e4a6-4196-95dc-b6f63eb12325",
     "showTitle": false,
     "tableResultSettingsMap": {},
     "title": ""
    }
   },
   "outputs": [],
   "source": [
    "# most variation\n",
    "\n",
    "spark.sql(\"SELECT name, \\\n",
    "                count(*) as count_desc, \\\n",
    "                FORMAT_NUMBER(AVG(negotiated_rate), 2) AS avg_rate, \\\n",
    "                FORMAT_NUMBER(stddev(negotiated_rate), 4) AS std_dev_rate,  \\\n",
    "                FORMAT_NUMBER(min(negotiated_rate), 2) AS min_rate, \\\n",
    "                FORMAT_NUMBER(max(negotiated_rate), 2) AS max_rate \\\n",
    "          FROM base378_view \\\n",
    "          GROUP BY name \\\n",
    "          ORDER by std_dev_rate DESC\").show(n=100, truncate=False)"
   ]
  },
  {
   "cell_type": "code",
   "execution_count": 0,
   "metadata": {
    "application/vnd.databricks.v1+cell": {
     "cellMetadata": {
      "byteLimit": 2048000,
      "rowLimit": 10000
     },
     "inputWidgets": {},
     "nuid": "e5db8280-0c3a-400d-a234-404ac23101ee",
     "showTitle": false,
     "tableResultSettingsMap": {},
     "title": ""
    }
   },
   "outputs": [],
   "source": [
    "# most variation\n",
    "\n",
    "spark.sql(\"SELECT billing_code_type, \\\n",
    "                count(*) as count_desc, \\\n",
    "                FORMAT_NUMBER(AVG(negotiated_rate), 2) AS avg_rate, \\\n",
    "                FORMAT_NUMBER(stddev(negotiated_rate), 4) AS std_dev_rate,  \\\n",
    "                FORMAT_NUMBER(min(negotiated_rate), 2) AS min_rate, \\\n",
    "                FORMAT_NUMBER(max(negotiated_rate), 2) AS max_rate \\\n",
    "          FROM base378_view \\\n",
    "          GROUP BY billing_code_type \\\n",
    "          ORDER by std_dev_rate DESC\").show(n=100, truncate=False)"
   ]
  },
  {
   "cell_type": "code",
   "execution_count": 0,
   "metadata": {
    "application/vnd.databricks.v1+cell": {
     "cellMetadata": {
      "byteLimit": 2048000,
      "rowLimit": 10000
     },
     "inputWidgets": {},
     "nuid": "c9669dae-38db-48ed-9993-7598b8a6bd08",
     "showTitle": false,
     "tableResultSettingsMap": {},
     "title": ""
    }
   },
   "outputs": [],
   "source": [
    "# variation without DRG - Description\n",
    "\n",
    "spark.sql(\"SELECT billing_class, \\\n",
    "                FORMAT_NUMBER(AVG(negotiated_rate), 2) AS avg_rate, \\\n",
    "                FORMAT_NUMBER(stddev(negotiated_rate), 4) AS std_dev_rate  \\\n",
    "          FROM base378_view \\\n",
    "          WHERE description!='DRG - Description'\\\n",
    "          GROUP BY billing_class \\\n",
    "          ORDER by std_dev_rate DESC\").show(n=100, truncate=False)"
   ]
  },
  {
   "cell_type": "code",
   "execution_count": 0,
   "metadata": {
    "application/vnd.databricks.v1+cell": {
     "cellMetadata": {
      "byteLimit": 2048000,
      "rowLimit": 10000
     },
     "inputWidgets": {},
     "nuid": "5e686938-6b84-49eb-825a-25ae0a63d3f0",
     "showTitle": false,
     "tableResultSettingsMap": {},
     "title": ""
    }
   },
   "outputs": [],
   "source": [
    "# variation without DRG - Description\n",
    "\n",
    "spark.sql(\"SELECT billing_class, \\\n",
    "                FORMAT_NUMBER(AVG(negotiated_rate), 2) AS avg_rate, \\\n",
    "                FORMAT_NUMBER(stddev(negotiated_rate), 4) AS std_dev_rate  \\\n",
    "          FROM base378_view \\\n",
    "          GROUP BY billing_class \\\n",
    "          ORDER by std_dev_rate DESC\").show(n=100, truncate=False)"
   ]
  },
  {
   "cell_type": "code",
   "execution_count": 0,
   "metadata": {
    "application/vnd.databricks.v1+cell": {
     "cellMetadata": {
      "byteLimit": 2048000,
      "rowLimit": 10000
     },
     "inputWidgets": {},
     "nuid": "f71a8eaa-d40c-4360-ab38-bed9e73e2ab1",
     "showTitle": false,
     "tableResultSettingsMap": {},
     "title": ""
    }
   },
   "outputs": [],
   "source": [
    "# generate a distinct list of billing codes that are DRG - DESCRIPTION\n",
    "df_drg_only = (base378.select(\"billing_code\").distinct()\n",
    "              .where(col(\"description\") == \"DRG - Description\"))\n",
    "df_drg_only.show(10, truncate=False)"
   ]
  },
  {
   "cell_type": "code",
   "execution_count": 0,
   "metadata": {
    "application/vnd.databricks.v1+cell": {
     "cellMetadata": {
      "byteLimit": 2048000,
      "rowLimit": 10000
     },
     "inputWidgets": {},
     "nuid": "5d237a0b-ff9c-4d83-831d-db0c49443a6e",
     "showTitle": false,
     "tableResultSettingsMap": {},
     "title": ""
    }
   },
   "outputs": [],
   "source": [
    "# merge those DRG billing codes back into big data to find other Descriptions\n",
    "\n",
    "df_drg_lim = (base378.join(df_drg_only,\"billing_code\"))\n",
    "\n",
    "display(df_drg_lim)"
   ]
  },
  {
   "cell_type": "code",
   "execution_count": 0,
   "metadata": {
    "application/vnd.databricks.v1+cell": {
     "cellMetadata": {
      "byteLimit": 2048000,
      "rowLimit": 10000
     },
     "inputWidgets": {},
     "nuid": "171df38e-76be-4bb2-af10-da23c8c58a8e",
     "showTitle": false,
     "tableResultSettingsMap": {},
     "title": ""
    }
   },
   "outputs": [],
   "source": [
    "# look for other descriptions\n",
    "\n",
    "(df_drg_lim\n",
    " .select(\"description\").distinct()).show(truncate=False)"
   ]
  },
  {
   "cell_type": "code",
   "execution_count": 0,
   "metadata": {
    "application/vnd.databricks.v1+cell": {
     "cellMetadata": {
      "byteLimit": 2048000,
      "rowLimit": 10000
     },
     "inputWidgets": {},
     "nuid": "5b330187-7bf6-4956-b2fc-7c6c3cd6fa39",
     "showTitle": false,
     "tableResultSettingsMap": {},
     "title": ""
    }
   },
   "outputs": [],
   "source": [
    "# prove that one billing code maps to multiple descriptions\n",
    "multi_bc=(df_drg_lim\n",
    " .select(\"billing_code\",\"description\")\n",
    " .groupBy(\"billing_code\",\"description\")\n",
    " .count()\n",
    " .orderBy(\"description\",\"billing_code\", ascending=True))\n",
    "\n",
    "display(multi_bc)"
   ]
  },
  {
   "cell_type": "code",
   "execution_count": 0,
   "metadata": {
    "application/vnd.databricks.v1+cell": {
     "cellMetadata": {
      "byteLimit": 2048000,
      "rowLimit": 10000
     },
     "inputWidgets": {},
     "nuid": "ff2b59f8-0235-4dd7-b44d-f96fa1264b80",
     "showTitle": false,
     "tableResultSettingsMap": {},
     "title": ""
    }
   },
   "outputs": [],
   "source": [
    "# show the billing code's with more than one description\n",
    "multi_bc_lim = (multi_bc\n",
    " .select(\"billing_code\",\"description\")\n",
    " .groupBy(\"billing_code\")\n",
    " .count()\n",
    " .orderBy(\"count\", ascending=False))\n",
    "\n",
    "display(multi_bc_lim)"
   ]
  },
  {
   "cell_type": "code",
   "execution_count": 0,
   "metadata": {
    "application/vnd.databricks.v1+cell": {
     "cellMetadata": {
      "byteLimit": 2048000,
      "rowLimit": 10000
     },
     "inputWidgets": {},
     "nuid": "5dea5a72-140b-4e24-89d0-e62250e270c5",
     "showTitle": false,
     "tableResultSettingsMap": {},
     "title": ""
    }
   },
   "outputs": [],
   "source": [
    "# isolate the billing codes that have more than one description\n",
    "\n",
    "multi_bc_ge2 = (multi_bc_lim\n",
    "              .select(\"billing_code\").where(col(\"count\")>=2))\n",
    "display(multi_bc_ge2)"
   ]
  },
  {
   "cell_type": "code",
   "execution_count": 0,
   "metadata": {
    "application/vnd.databricks.v1+cell": {
     "cellMetadata": {
      "byteLimit": 2048000,
      "rowLimit": 10000
     },
     "inputWidgets": {},
     "nuid": "ef07f1a8-283f-407e-b2e4-6188aee60aef",
     "showTitle": false,
     "tableResultSettingsMap": {},
     "title": ""
    }
   },
   "outputs": [],
   "source": [
    "# show that i have the right billing codes\n",
    "\n",
    "multi_bc_list = (multi_bc.join(multi_bc_ge2,\"billing_code\"))\n",
    "\n",
    "display(multi_bc_list)"
   ]
  },
  {
   "cell_type": "code",
   "execution_count": 0,
   "metadata": {
    "application/vnd.databricks.v1+cell": {
     "cellMetadata": {
      "byteLimit": 2048000,
      "rowLimit": 10000
     },
     "inputWidgets": {},
     "nuid": "bb6a622d-aedd-4355-8771-8d53fbfe7bcf",
     "showTitle": false,
     "tableResultSettingsMap": {},
     "title": ""
    }
   },
   "outputs": [],
   "source": [
    "# limit data to list of billing codes and change variable name for later merge\n",
    "\n",
    "df_drg_corct = (multi_bc_list.select(\"billing_code\",\"description\").distinct().withColumnRenamed(\"description\", \"description_corrected\").where(col(\"description\")!=\"DRG - Description\"))\n",
    "\n",
    "display(df_drg_corct)"
   ]
  },
  {
   "cell_type": "code",
   "execution_count": 0,
   "metadata": {
    "application/vnd.databricks.v1+cell": {
     "cellMetadata": {
      "byteLimit": 2048000,
      "rowLimit": 10000
     },
     "inputWidgets": {},
     "nuid": "621b67ba-2d51-487b-ac6e-22cd06e13d5e",
     "showTitle": false,
     "tableResultSettingsMap": {},
     "title": ""
    }
   },
   "outputs": [],
   "source": [
    "# audit: pre merge count for specific billing_code\n",
    "\n",
    "(base378\n",
    " .select(\"billing_code\",\"description\").where((col(\"description\") == \"ANESTHESIA FOR PROCEDURES ON MAJOR LOWER ABDOMINAL VESSELS; NOT OTHERWISE SPECIFIED\"))\n",
    " .groupBy(\"billing_code\",\"description\")\n",
    " .count()\n",
    " .orderBy(\"count\", ascending=False)\n",
    " .show(n=50, truncate=False))"
   ]
  },
  {
   "cell_type": "code",
   "execution_count": 0,
   "metadata": {
    "application/vnd.databricks.v1+cell": {
     "cellMetadata": {
      "byteLimit": 2048000,
      "rowLimit": 10000
     },
     "inputWidgets": {},
     "nuid": "96730675-d83b-48a9-9cfb-89d63a07ae12",
     "showTitle": false,
     "tableResultSettingsMap": {},
     "title": ""
    }
   },
   "outputs": [],
   "source": [
    "# pre merge count of total obs -- should not change after join\n",
    "base378.select(count(\"*\").alias(\"Total Rows\")).show()"
   ]
  },
  {
   "cell_type": "code",
   "execution_count": 0,
   "metadata": {
    "application/vnd.databricks.v1+cell": {
     "cellMetadata": {
      "byteLimit": 2048000,
      "rowLimit": 10000
     },
     "inputWidgets": {},
     "nuid": "82acfab0-0553-448d-a2c5-6e11977f8e15",
     "showTitle": false,
     "tableResultSettingsMap": {},
     "title": ""
    }
   },
   "outputs": [],
   "source": [
    "#merge in corrected descriptions via billing code with a left join\n",
    "\n",
    "base378_corct = base378.join(df_drg_corct,[\"billing_code\"], \"left\")\n",
    "\n",
    "display(base378_corct)"
   ]
  },
  {
   "cell_type": "code",
   "execution_count": 0,
   "metadata": {
    "application/vnd.databricks.v1+cell": {
     "cellMetadata": {
      "byteLimit": 2048000,
      "rowLimit": 10000
     },
     "inputWidgets": {},
     "nuid": "c23fa2b9-4e55-4dd6-b94b-8ece8e3f8880",
     "showTitle": false,
     "tableResultSettingsMap": {},
     "title": ""
    }
   },
   "outputs": [],
   "source": [
    "# post merge count -- total obs\n",
    "# i expect pre and post count to be equal since i'm not adding rows; i'm only adding a column\n",
    "\n",
    "base378_corct.select(count(\"*\").alias(\"Total Rows\")).show()"
   ]
  },
  {
   "cell_type": "code",
   "execution_count": 0,
   "metadata": {
    "application/vnd.databricks.v1+cell": {
     "cellMetadata": {
      "byteLimit": 2048000,
      "rowLimit": 10000
     },
     "inputWidgets": {},
     "nuid": "6d6d9fff-cf87-4ee0-9603-9967fbc36810",
     "showTitle": false,
     "tableResultSettingsMap": {},
     "title": ""
    }
   },
   "outputs": [],
   "source": [
    "# success! pre and post total obs count are equal"
   ]
  },
  {
   "cell_type": "code",
   "execution_count": 0,
   "metadata": {
    "application/vnd.databricks.v1+cell": {
     "cellMetadata": {
      "byteLimit": 2048000,
      "rowLimit": 10000
     },
     "inputWidgets": {},
     "nuid": "9876afc5-1816-4633-a40f-193da8493974",
     "showTitle": false,
     "tableResultSettingsMap": {},
     "title": ""
    }
   },
   "outputs": [],
   "source": [
    "# overwrite the field DESCRIPTION whenever the field DESCRIPTION_CORRECTED is not null\n",
    "\n",
    "base378_fix = base378_corct.withColumn(\"description\", when(col(\"description_corrected\").isNull(), col(\"description\")).otherwise(col(\"description_corrected\")))"
   ]
  },
  {
   "cell_type": "code",
   "execution_count": 0,
   "metadata": {
    "application/vnd.databricks.v1+cell": {
     "cellMetadata": {
      "byteLimit": 2048000,
      "rowLimit": 10000
     },
     "inputWidgets": {},
     "nuid": "9f4e1e11-9862-4512-872e-ea81feef15d0",
     "showTitle": false,
     "tableResultSettingsMap": {},
     "title": ""
    }
   },
   "outputs": [],
   "source": [
    "# audit: post merge count\n",
    "\n",
    "#i expect the count to be greater than pre count\n",
    "\n",
    "(base378_fix\n",
    " .select(\"billing_code\",\"description\").where((col(\"description\") == \"ANESTHESIA FOR PROCEDURES ON MAJOR LOWER ABDOMINAL VESSELS; NOT OTHERWISE SPECIFIED\"))\n",
    " .groupBy(\"billing_code\",\"description\")\n",
    " .count()\n",
    " .orderBy(\"count\", ascending=False)\n",
    " .show(n=50, truncate=False))"
   ]
  },
  {
   "cell_type": "code",
   "execution_count": 0,
   "metadata": {
    "application/vnd.databricks.v1+cell": {
     "cellMetadata": {
      "byteLimit": 2048000,
      "rowLimit": 10000
     },
     "inputWidgets": {},
     "nuid": "a14a3496-e2dc-4410-8348-c625b98f7eac",
     "showTitle": false,
     "tableResultSettingsMap": {},
     "title": ""
    }
   },
   "outputs": [],
   "source": [
    "# success! 35 (pre) << 39 (post)"
   ]
  },
  {
   "cell_type": "code",
   "execution_count": 0,
   "metadata": {
    "application/vnd.databricks.v1+cell": {
     "cellMetadata": {
      "byteLimit": 2048000,
      "rowLimit": 10000
     },
     "inputWidgets": {},
     "nuid": "906755ad-1a76-4c42-967a-e3bd03a87c81",
     "showTitle": false,
     "tableResultSettingsMap": {},
     "title": ""
    }
   },
   "outputs": [],
   "source": [
    "#drop the field DESCRIPTION_CORRECTED now that correction is made\n",
    "\n",
    "base378a = base378_fix.drop(\"description_corrected\")"
   ]
  },
  {
   "cell_type": "code",
   "execution_count": 0,
   "metadata": {
    "application/vnd.databricks.v1+cell": {
     "cellMetadata": {
      "byteLimit": 2048000,
      "rowLimit": 10000
     },
     "inputWidgets": {},
     "nuid": "d0fcbd86-9293-41bf-bd2a-6e20adabc1ab",
     "showTitle": false,
     "tableResultSettingsMap": {},
     "title": ""
    }
   },
   "outputs": [],
   "source": [
    "(base378a\n",
    " .select(\"negotiated_rate\").where((col(\"description\") == \"ANESTHESIA FOR PROCEDURES ON MAJOR LOWER ABDOMINAL VESSELS; NOT OTHERWISE SPECIFIED\"))\n",
    " .groupBy(\"negotiated_rate\")\n",
    " .count()\n",
    " .orderBy(\"count\", ascending=False)\n",
    " .show(n=50, truncate=False))"
   ]
  },
  {
   "cell_type": "code",
   "execution_count": 0,
   "metadata": {
    "application/vnd.databricks.v1+cell": {
     "cellMetadata": {
      "byteLimit": 2048000,
      "rowLimit": 10000
     },
     "inputWidgets": {},
     "nuid": "81ab1b6e-b9bb-48fd-b304-48f65f831d5b",
     "showTitle": false,
     "tableResultSettingsMap": {},
     "title": ""
    }
   },
   "outputs": [],
   "source": [
    "(base378\n",
    " .select(\"negotiated_rate\").where((col(\"description\") == \"ANESTHESIA FOR PROCEDURES ON MAJOR LOWER ABDOMINAL VESSELS; NOT OTHERWISE SPECIFIED\"))\n",
    " .groupBy(\"negotiated_rate\")\n",
    " .count()\n",
    " .orderBy(\"count\", ascending=False)\n",
    " .show(n=50, truncate=False))"
   ]
  },
  {
   "cell_type": "code",
   "execution_count": 0,
   "metadata": {
    "application/vnd.databricks.v1+cell": {
     "cellMetadata": {
      "byteLimit": 2048000,
      "rowLimit": 10000
     },
     "inputWidgets": {},
     "nuid": "916d3758-5d0c-475b-91cf-66aa49b20d29",
     "showTitle": false,
     "tableResultSettingsMap": {},
     "title": ""
    }
   },
   "outputs": [],
   "source": [
    "desc=\"ANESTHESIA FOR PROCEDURES ON MAJOR LOWER ABDOMINAL VESSELS; NOT OTHERWISE SPECIFIED\"\n",
    "\n",
    "avg_crctd1 = base378a.filter(base378a.description == desc).select(avg(base378a.negotiated_rate)).collect()[0][0]\n",
    "std_dev_corct1 = base378a.filter(base378a.description == desc).select(stddev(base378a.negotiated_rate)).collect()[0][0]\n",
    "\n",
    "avg_orig1 = base378.filter(base378.description == desc).select(avg(base378.negotiated_rate)).collect()[0][0]\n",
    "std_dev_orig1 = base378.filter(base378.description == desc).select(stddev(base378.negotiated_rate)).collect()[0][0]\n",
    "\n",
    "# Print the result\n",
    "print(\"The average negotiated_rate when the original desc is equal to '{}' is: {}\".format(desc, avg_orig1))\n",
    "print(\"The average negotiated_rate when the corrected desc is equal to '{}' is: {}\".format(desc, avg_crctd1))\n",
    "\n",
    "print(\"Standard Deviation of negotiated_rate when original description is\", desc, \":\", std_dev_orig1)\n",
    "print(\"Standard Deviation of negotiated_rate when corrected description is\", desc, \":\", std_dev_corct1)"
   ]
  },
  {
   "cell_type": "code",
   "execution_count": 0,
   "metadata": {
    "application/vnd.databricks.v1+cell": {
     "cellMetadata": {
      "byteLimit": 2048000,
      "rowLimit": 10000
     },
     "inputWidgets": {},
     "nuid": "eb21a1f1-ad9a-4ec0-9cc6-68f041d09b92",
     "showTitle": false,
     "tableResultSettingsMap": {},
     "title": ""
    }
   },
   "outputs": [],
   "source": [
    "desc=\"ANESTHESIA FOR PROCEDURES ON MAJOR LOWER ABDOMINAL VESSELS; INFERIOR VENA CAVA LIGATION\"\n",
    "\n",
    "avg_crctd2 = base378a.filter(base378a.description == desc).select(avg(base378a.negotiated_rate)).collect()[0][0]\n",
    "std_dev_corct2 = base378a.filter(base378a.description == desc).select(stddev(base378a.negotiated_rate)).collect()[0][0]\n",
    "\n",
    "avg_orig2 = base378.filter(base378.description == desc).select(avg(base378.negotiated_rate)).collect()[0][0]\n",
    "std_dev_orig2 = base378.filter(base378.description == desc).select(stddev(base378.negotiated_rate)).collect()[0][0]\n",
    "\n",
    "# Print the result\n",
    "print(\"The average negotiated_rate when the original description is equal to '{}' is: {}\".format(desc, avg_orig2))\n",
    "print(\"The average negotiated_rate when the corrected description is equal to '{}' is: {}\".format(desc, avg_crctd2))\n",
    "\n",
    "print(\"Standard Deviation of negotiated_rate when original description is\", desc, \":\", std_dev_orig2)\n",
    "print(\"Standard Deviation of negotiated_rate when corrected description is\", desc, \":\", std_dev_corct2)"
   ]
  },
  {
   "cell_type": "code",
   "execution_count": 0,
   "metadata": {
    "application/vnd.databricks.v1+cell": {
     "cellMetadata": {
      "byteLimit": 2048000,
      "rowLimit": 10000
     },
     "inputWidgets": {},
     "nuid": "40409b99-ee98-4536-8309-155c2fdd9d12",
     "showTitle": false,
     "tableResultSettingsMap": {},
     "title": ""
    }
   },
   "outputs": [],
   "source": [
    "desc=\"ANESTHESIA FOR TRANSURETHRAL PROCEDURES (INCLUDING URETHROCYSTOSCOPY); WITH FRAGMENTATION, MANIPULATION AND/OR REMOVAL OF URETERAL CALCULUS\"\n",
    "\n",
    "avg_crctd3 = base378a.filter(base378a.description == desc).select(avg(base378a.negotiated_rate)).collect()[0][0]\n",
    "std_dev_corct3 = base378a.filter(base378a.description == desc).select(stddev(base378a.negotiated_rate)).collect()[0][0]\n",
    "\n",
    "avg_orig3 = base378.filter(base378.description == desc).select(avg(base378.negotiated_rate)).collect()[0][0]\n",
    "std_dev_orig3 = base378.filter(base378.description == desc).select(stddev(base378.negotiated_rate)).collect()[0][0]\n",
    "\n",
    "# Print the result\n",
    "print(\"The average negotiated_rate when the original description is equal to '{}' is: {}\".format(desc, avg_orig3))\n",
    "print(\"The average negotiated_rate when the corrected description is equal to '{}' is: {}\".format(desc, avg_crctd3))\n",
    "\n",
    "print(\"Standard Deviation of negotiated_rate when original description is\", desc, \":\", std_dev_orig3)\n",
    "\n",
    "print(\"Standard Deviation of negotiated_rate when corrected description is\", desc, \":\", std_dev_corct3)"
   ]
  },
  {
   "cell_type": "code",
   "execution_count": 0,
   "metadata": {
    "application/vnd.databricks.v1+cell": {
     "cellMetadata": {
      "byteLimit": 2048000,
      "rowLimit": 10000
     },
     "inputWidgets": {},
     "nuid": "aead6e80-8021-4b5a-bf9a-0e31f47d2ab4",
     "showTitle": false,
     "tableResultSettingsMap": {},
     "title": ""
    }
   },
   "outputs": [],
   "source": [
    "# Filter the DataFrame based on the description value\n",
    "filtered_df = base378.filter(base378.description == \"ANESTHESIA FOR PROCEDURES ON MAJOR LOWER ABDOMINAL VESSELS; NOT OTHERWISE SPECIFIED\")\n",
    "\n",
    "# Extract the \"negotiated_rate\" column as a list\n",
    "rates = filtered_df.select(\"negotiated_rate\").rdd.flatMap(lambda x: x).collect()\n",
    "\n",
    "# Plot the distribution using matplotlib\n",
    "plt.hist(rates, bins=20, edgecolor='black')\n",
    "plt.xlabel(\"Negotiated Rate\")\n",
    "plt.ylabel(\"Frequency\")\n",
    "plt.title(\"Distribution of Negotiated Rate\")\n",
    "plt.show()"
   ]
  },
  {
   "cell_type": "code",
   "execution_count": 0,
   "metadata": {
    "application/vnd.databricks.v1+cell": {
     "cellMetadata": {
      "byteLimit": 2048000,
      "rowLimit": 10000
     },
     "inputWidgets": {},
     "nuid": "edada349-1fc8-419b-b521-621b833f48f1",
     "showTitle": false,
     "tableResultSettingsMap": {},
     "title": ""
    }
   },
   "outputs": [],
   "source": [
    "# Filter the DataFrame based on the description value\n",
    "filtered_df1 = base378a.filter(base378a.description == \"ANESTHESIA FOR PROCEDURES ON MAJOR LOWER ABDOMINAL VESSELS; NOT OTHERWISE SPECIFIED\")\n",
    "\n",
    "# Extract the \"negotiated_rate\" column as a list\n",
    "rates1 = filtered_df1.select(\"negotiated_rate\").rdd.flatMap(lambda x: x).collect()\n",
    "\n",
    "# Plot the distribution using matplotlib\n",
    "plt.hist(rates1, bins=20, edgecolor='black')\n",
    "plt.xlabel(\"Negotiated Rate\")\n",
    "plt.ylabel(\"Frequency\")\n",
    "plt.title(\"Distribution of Negotiated Rate\")\n",
    "plt.show()"
   ]
  },
  {
   "cell_type": "code",
   "execution_count": 0,
   "metadata": {
    "application/vnd.databricks.v1+cell": {
     "cellMetadata": {
      "byteLimit": 2048000,
      "rowLimit": 10000
     },
     "inputWidgets": {},
     "nuid": "2b9e7e49-403a-437f-9202-9f3b1e4a08c4",
     "showTitle": false,
     "tableResultSettingsMap": {},
     "title": ""
    }
   },
   "outputs": [],
   "source": [
    "# Filter the DataFrame\n",
    "filtered_df = base378.filter(base378.description == \"ANESTHESIA FOR PROCEDURES ON MAJOR LOWER ABDOMINAL VESSELS; NOT OTHERWISE SPECIFIED\")\n",
    "\n",
    "# Extract the \"negotiated_rate\" column\n",
    "negotiated_rates = filtered_df.select(\"negotiated_rate\").toPandas()[\"negotiated_rate\"]\n",
    "\n",
    "# Plot the data points\n",
    "plt.scatter(range(len(negotiated_rates)), negotiated_rates)\n",
    "plt.xlabel(\"Data Points\")\n",
    "plt.ylabel(\"Negotiated Rate\")\n",
    "plt.title(\"Individual Data Points for 'ANESTHESIA FOR PROCEDURES ON MAJOR LOWER ABDOMINAL VESSELS'\")\n",
    "\n",
    "plt.show()"
   ]
  },
  {
   "cell_type": "code",
   "execution_count": 0,
   "metadata": {
    "application/vnd.databricks.v1+cell": {
     "cellMetadata": {
      "byteLimit": 2048000,
      "rowLimit": 10000
     },
     "inputWidgets": {},
     "nuid": "ad58c974-37a1-4e0a-b054-9b53c09ec42d",
     "showTitle": false,
     "tableResultSettingsMap": {},
     "title": ""
    }
   },
   "outputs": [],
   "source": [
    "# Filter the DataFrame\n",
    "filtered_df = base378a.filter(base378a.description == \"ANESTHESIA FOR PROCEDURES ON MAJOR LOWER ABDOMINAL VESSELS; NOT OTHERWISE SPECIFIED\")\n",
    "\n",
    "# Extract the \"negotiated_rate\" column\n",
    "negotiated_rates = filtered_df.select(\"negotiated_rate\").toPandas()[\"negotiated_rate\"]\n",
    "\n",
    "# Plot the data points\n",
    "plt.scatter(range(len(negotiated_rates)), negotiated_rates)\n",
    "plt.xlabel(\"Data Points\")\n",
    "plt.ylabel(\"Negotiated Rate\")\n",
    "plt.title(\"Individual Data Points for 'ANESTHESIA FOR PROCEDURES ON MAJOR LOWER ABDOMINAL VESSELS'\")\n",
    "\n",
    "plt.show()"
   ]
  },
  {
   "cell_type": "code",
   "execution_count": 0,
   "metadata": {
    "application/vnd.databricks.v1+cell": {
     "cellMetadata": {
      "byteLimit": 2048000,
      "rowLimit": 10000
     },
     "inputWidgets": {},
     "nuid": "9d3584b0-0bb5-4905-bdfd-ada1a1783d04",
     "showTitle": false,
     "tableResultSettingsMap": {},
     "title": ""
    }
   },
   "outputs": [],
   "source": [
    "# count top descriptions\n",
    "(base378\n",
    " .select(\"description\")\n",
    " .groupBy(\"description\")\n",
    " .count()\n",
    " .orderBy(\"count\", ascending=False)\n",
    " .show(n=50, truncate=False))"
   ]
  },
  {
   "cell_type": "code",
   "execution_count": 0,
   "metadata": {
    "application/vnd.databricks.v1+cell": {
     "cellMetadata": {
      "byteLimit": 2048000,
      "rowLimit": 10000
     },
     "inputWidgets": {},
     "nuid": "b863fc44-781c-48b6-9102-3252d9ffdb1c",
     "showTitle": false,
     "tableResultSettingsMap": {},
     "title": ""
    }
   },
   "outputs": [],
   "source": [
    "# count top name\n",
    "(base378\n",
    " .select(\"description\",\"name\")\n",
    " .groupBy(\"description\",\"name\")\n",
    " .count()\n",
    " .orderBy(\"count\", ascending=False)\n",
    " .show(n=50, truncate=False))"
   ]
  },
  {
   "cell_type": "code",
   "execution_count": 0,
   "metadata": {
    "application/vnd.databricks.v1+cell": {
     "cellMetadata": {
      "byteLimit": 2048000,
      "rowLimit": 10000
     },
     "inputWidgets": {},
     "nuid": "4a7bc7c3-b6a3-41bb-af2f-58ed1271aaae",
     "showTitle": false,
     "tableResultSettingsMap": {},
     "title": ""
    }
   },
   "outputs": [],
   "source": [
    "# count top billing_codes\n",
    "(base378\n",
    " .select(\"billing_code\")\n",
    " .groupBy(\"billing_code\")\n",
    " .count()\n",
    " .orderBy(\"count\", ascending=False)\n",
    " .show(n=50, truncate=False))"
   ]
  },
  {
   "cell_type": "code",
   "execution_count": 0,
   "metadata": {
    "application/vnd.databricks.v1+cell": {
     "cellMetadata": {
      "byteLimit": 2048000,
      "rowLimit": 10000
     },
     "inputWidgets": {},
     "nuid": "0b9f1959-da93-4014-a6ff-6b23f81fc700",
     "showTitle": false,
     "tableResultSettingsMap": {},
     "title": ""
    }
   },
   "outputs": [],
   "source": [
    "# count top names\n",
    "(base378\n",
    " .select(\"name\")\n",
    " .groupBy(\"name\")\n",
    " .count()\n",
    " .orderBy(\"count\", ascending=False)\n",
    " .show(n=50, truncate=False))"
   ]
  },
  {
   "cell_type": "code",
   "execution_count": 0,
   "metadata": {
    "application/vnd.databricks.v1+cell": {
     "cellMetadata": {
      "byteLimit": 2048000,
      "rowLimit": 10000
     },
     "inputWidgets": {},
     "nuid": "41c19351-7439-440b-a1fb-636e2d9ed475",
     "showTitle": false,
     "tableResultSettingsMap": {},
     "title": ""
    }
   },
   "outputs": [],
   "source": [
    "# count negotiated type\n",
    "(base378\n",
    " .select(\"negotiated_type\")\n",
    " .groupBy(\"negotiated_type\")\n",
    " .count()\n",
    " .orderBy(\"count\", ascending=False)\n",
    " .show(truncate=False))"
   ]
  },
  {
   "cell_type": "code",
   "execution_count": 0,
   "metadata": {
    "application/vnd.databricks.v1+cell": {
     "cellMetadata": {
      "byteLimit": 2048000,
      "rowLimit": 10000
     },
     "inputWidgets": {},
     "nuid": "46448f94-1d79-4251-b692-050becc40e73",
     "showTitle": false,
     "tableResultSettingsMap": {},
     "title": ""
    }
   },
   "outputs": [],
   "source": [
    "# count billing class\n",
    "(base378\n",
    " .select(\"billing_class\")\n",
    " .groupBy(\"billing_class\")\n",
    " .count()\n",
    " .withColumn(\"count\", format_number(\"count\", 0))\n",
    " .orderBy(\"count\", ascending=False)\n",
    " .show(truncate=False))"
   ]
  },
  {
   "cell_type": "code",
   "execution_count": 0,
   "metadata": {
    "application/vnd.databricks.v1+cell": {
     "cellMetadata": {
      "byteLimit": 2048000,
      "rowLimit": 10000
     },
     "inputWidgets": {},
     "nuid": "19f53079-09e9-4bd6-9465-3a5bfa4c7956",
     "showTitle": false,
     "tableResultSettingsMap": {},
     "title": ""
    }
   },
   "outputs": [],
   "source": [
    "# count negotiation arrangement\n",
    "(base378\n",
    " .select(\"negotiation_arrangement\")\n",
    " .groupBy(\"negotiation_arrangement\")\n",
    " .count()\n",
    " .orderBy(\"count\", ascending=False)\n",
    " .show(truncate=False))"
   ]
  },
  {
   "cell_type": "code",
   "execution_count": 0,
   "metadata": {
    "application/vnd.databricks.v1+cell": {
     "cellMetadata": {
      "byteLimit": 2048000,
      "rowLimit": 10000
     },
     "inputWidgets": {},
     "nuid": "5181e140-5812-4436-aa7e-80cb879ad2e6",
     "showTitle": false,
     "tableResultSettingsMap": {},
     "title": ""
    }
   },
   "outputs": [],
   "source": [
    "total_count = base378.count()\n",
    "\n",
    "# count billing code type\n",
    "(base378\n",
    " .select(\"billing_code_type\")\n",
    " .groupBy(\"billing_code_type\")\n",
    " .count()\n",
    " .withColumn(\"count_f\", format_number(\"count\", 0))\n",
    " .withColumn(\"percentage\", format_number(col(\"count\") / total_count * 100, 2))\n",
    " .orderBy(desc(\"count\"))\n",
    " .select(\"billing_code_type\", \"count_f\", \"percentage\")\n",
    " .show(truncate=False))"
   ]
  },
  {
   "cell_type": "code",
   "execution_count": 0,
   "metadata": {
    "application/vnd.databricks.v1+cell": {
     "cellMetadata": {
      "byteLimit": 2048000,
      "rowLimit": 10000
     },
     "inputWidgets": {},
     "nuid": "4bcaae42-9585-4cbf-b7b5-4267298d5577",
     "showTitle": false,
     "tableResultSettingsMap": {},
     "title": ""
    }
   },
   "outputs": [],
   "source": [
    "# count billing code type\n",
    "(base378\n",
    " .select(\"billing_class\",\"billing_code_type\")\n",
    " .groupBy(\"billing_class\",\"billing_code_type\")\n",
    " .count()\n",
    " .withColumn(\"count_formatted\", format_number(\"count\", 0))\n",
    " .orderBy(\"count\", ascending=False)\n",
    " .show(truncate=False))"
   ]
  },
  {
   "cell_type": "code",
   "execution_count": 0,
   "metadata": {
    "application/vnd.databricks.v1+cell": {
     "cellMetadata": {
      "byteLimit": 2048000,
      "rowLimit": 10000
     },
     "inputWidgets": {},
     "nuid": "39871563-fac8-4472-bbf7-9ca2bbc2fe3b",
     "showTitle": false,
     "tableResultSettingsMap": {},
     "title": ""
    }
   },
   "outputs": [],
   "source": [
    "base378.groupby(\"billing_code\").agg(sum(\"negotiated_rate\").alias(\"sum_negotiated_rate\")).show(n=10)"
   ]
  },
  {
   "cell_type": "code",
   "execution_count": 0,
   "metadata": {
    "application/vnd.databricks.v1+cell": {
     "cellMetadata": {
      "byteLimit": 2048000,
      "rowLimit": 10000
     },
     "inputWidgets": {},
     "nuid": "44c76a3f-2ab0-4944-9f3e-bc39608ad678",
     "showTitle": false,
     "tableResultSettingsMap": {},
     "title": ""
    }
   },
   "outputs": [],
   "source": [
    "# I wanted to run all of this on a second dataset but ran out of time\n",
    "\n",
    "# File location and type\n",
    "file_location = \"/mnt/data603final/443_69B0.csv\"\n",
    "file_type = \"csv\"\n",
    "\n",
    "# CSV options\n",
    "infer_schema = \"true\"\n",
    "first_row_is_header = \"true\"\n",
    "delimiter = \",\"\n",
    "\n",
    "# The applied options are for CSV files\n",
    "df_443 = spark.read.format(file_type) \\\n",
    "    .option(\"inferSchema\", infer_schema) \\\n",
    "    .option(\"header\", first_row_is_header) \\\n",
    "    .option(\"sep\", delimiter) \\\n",
    "    .load(file_location)\n",
    "          \n",
    "# Take a look at the data\n",
    "display(df_443)"
   ]
  },
  {
   "cell_type": "code",
   "execution_count": 0,
   "metadata": {
    "application/vnd.databricks.v1+cell": {
     "cellMetadata": {
      "byteLimit": 2048000,
      "rowLimit": 10000
     },
     "inputWidgets": {},
     "nuid": "f69ea724-a76a-4b2e-9a46-009d4f4123f6",
     "showTitle": false,
     "tableResultSettingsMap": {},
     "title": ""
    }
   },
   "outputs": [],
   "source": [
    "# Allow creating table using non-empty location\n",
    "spark.conf.set(\"spark.sql.legacy.allowCreatingManagedTableUsingNonemptyLocation\",\"True\")\n",
    "\n",
    "# Save Table\n",
    "base378.write.format(\"parquet\").saveAsTable('bcbsla_378_49a0')\n",
    "\n",
    "# Save Table\n",
    "df_443.write.format(\"parquet\").saveAsTable('bcbsla_443_49a0')"
   ]
  },
  {
   "cell_type": "code",
   "execution_count": 0,
   "metadata": {
    "application/vnd.databricks.v1+cell": {
     "cellMetadata": {
      "byteLimit": 2048000,
      "rowLimit": 10000
     },
     "inputWidgets": {},
     "nuid": "661ac11f-7550-4c72-8cce-0c7133cb7542",
     "showTitle": false,
     "tableResultSettingsMap": {},
     "title": ""
    }
   },
   "outputs": [],
   "source": [
    "# Remove the file if it was saved before\n",
    "# dbutils.fs.rm('/mnt/data603final/378_49A0', True)\n",
    "\n",
    "# Save to the mounted S3 bucket\n",
    "base378.write.save(f'/mnt/data603final/378_49A0_New', format='csv')\n",
    "\n",
    "# Check if the file was saved succesfully\n",
    "display(dbutils.fs.ls(\"/mnt/data603final/378_49A0_New\"))"
   ]
  },
  {
   "cell_type": "code",
   "execution_count": 0,
   "metadata": {
    "application/vnd.databricks.v1+cell": {
     "cellMetadata": {
      "byteLimit": 2048000,
      "rowLimit": 10000
     },
     "inputWidgets": {},
     "nuid": "1e7146c1-a8ca-4095-bb22-467307b604db",
     "showTitle": false,
     "tableResultSettingsMap": {},
     "title": ""
    }
   },
   "outputs": [],
   "source": [
    "# Unmount S3 bucket\n",
    "dbutils.fs.unmount(\"/mnt/data603final\")"
   ]
  }
 ],
 "metadata": {
  "application/vnd.databricks.v1+notebook": {
   "computePreferences": null,
   "dashboards": [],
   "environmentMetadata": null,
   "inputWidgetPreferences": null,
   "language": "python",
   "notebookMetadata": {
    "pythonIndentUnit": 4
   },
   "notebookName": "latest",
   "widgets": {}
  }
 },
 "nbformat": 4,
 "nbformat_minor": 0
}